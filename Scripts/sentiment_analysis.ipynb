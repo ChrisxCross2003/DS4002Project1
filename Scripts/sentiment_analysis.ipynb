{
 "cells": [
  {
   "cell_type": "markdown",
   "id": "c5234169-2452-43b4-b846-e87ca2a7a028",
   "metadata": {},
   "source": [
    "# Sentiment Analysis Data Pipeline"
   ]
  },
  {
   "cell_type": "code",
   "execution_count": 5,
   "id": "77fbcb3c-bac7-4dc7-9220-4ef6f42eb8f0",
   "metadata": {},
   "outputs": [
    {
     "name": "stdout",
     "output_type": "stream",
     "text": [
      "Collecting textblob\n",
      "  Downloading textblob-0.19.0-py3-none-any.whl.metadata (4.4 kB)\n",
      "Collecting nltk>=3.9 (from textblob)\n",
      "  Downloading nltk-3.9.1-py3-none-any.whl.metadata (2.9 kB)\n",
      "Requirement already satisfied: click in c:\\users\\chris\\anaconda3\\lib\\site-packages (from nltk>=3.9->textblob) (8.1.7)\n",
      "Requirement already satisfied: joblib in c:\\users\\chris\\anaconda3\\lib\\site-packages (from nltk>=3.9->textblob) (1.4.2)\n",
      "Requirement already satisfied: regex>=2021.8.3 in c:\\users\\chris\\anaconda3\\lib\\site-packages (from nltk>=3.9->textblob) (2023.10.3)\n",
      "Requirement already satisfied: tqdm in c:\\users\\chris\\anaconda3\\lib\\site-packages (from nltk>=3.9->textblob) (4.66.4)\n",
      "Requirement already satisfied: colorama in c:\\users\\chris\\anaconda3\\lib\\site-packages (from click->nltk>=3.9->textblob) (0.4.6)\n",
      "Downloading textblob-0.19.0-py3-none-any.whl (624 kB)\n",
      "   ---------------------------------------- 0.0/624.3 kB ? eta -:--:--\n",
      "   -- ------------------------------------ 41.0/624.3 kB 960.0 kB/s eta 0:00:01\n",
      "   ------------------------ --------------- 389.1/624.3 kB 4.8 MB/s eta 0:00:01\n",
      "   ---------------------------------------  614.4/624.3 kB 4.8 MB/s eta 0:00:01\n",
      "   ---------------------------------------- 624.3/624.3 kB 3.9 MB/s eta 0:00:00\n",
      "Downloading nltk-3.9.1-py3-none-any.whl (1.5 MB)\n",
      "   ---------------------------------------- 0.0/1.5 MB ? eta -:--:--\n",
      "   --------- ------------------------------ 0.4/1.5 MB 7.4 MB/s eta 0:00:01\n",
      "   ------------------- -------------------- 0.7/1.5 MB 9.1 MB/s eta 0:00:01\n",
      "   ------------------------ --------------- 0.9/1.5 MB 8.3 MB/s eta 0:00:01\n",
      "   ----------------------------------- ---- 1.4/1.5 MB 7.8 MB/s eta 0:00:01\n",
      "   ---------------------------------------- 1.5/1.5 MB 7.4 MB/s eta 0:00:00\n",
      "Installing collected packages: nltk, textblob\n",
      "  Attempting uninstall: nltk\n",
      "    Found existing installation: nltk 3.8.1\n",
      "    Uninstalling nltk-3.8.1:\n",
      "      Successfully uninstalled nltk-3.8.1\n",
      "Successfully installed nltk-3.9.1 textblob-0.19.0\n",
      "Note: you may need to restart the kernel to use updated packages.\n"
     ]
    }
   ],
   "source": [
    "pip install textblob"
   ]
  },
  {
   "cell_type": "code",
   "execution_count": 6,
   "id": "7c834137-275d-49a1-ba01-ee537d99b4e8",
   "metadata": {},
   "outputs": [],
   "source": [
    "import pandas as pd\n",
    "import numpy as np\n",
    "from textblob import TextBlob\n",
    "import matplotlib.pyplot as plt\n",
    "from nltk.corpus import stopwords"
   ]
  },
  {
   "cell_type": "code",
   "execution_count": 7,
   "id": "39ba271f-417a-44e8-9027-6f3a5bafdd22",
   "metadata": {},
   "outputs": [
    {
     "name": "stdout",
     "output_type": "stream",
     "text": [
      "                   text     sentiment  polarity  subjectivity\n",
      "0  I love this product!  (0.625, 0.6)     0.625           0.6\n",
      "1     This is terrible.   (-1.0, 1.0)    -1.000           1.0\n",
      "2          It was okay.    (0.5, 0.5)     0.500           0.5\n"
     ]
    }
   ],
   "source": [
    "# TEST OF TEXTBLOB, DO NOT USE IN FINAL PRODUCT\n",
    "df = pd.DataFrame({'text': ['I love this product!', 'This is terrible.', 'It was okay.']})\n",
    "\n",
    "# Apply TextBlob's sentiment analysis to the 'text' column\n",
    "df['sentiment'] = df['text'].apply(lambda x: TextBlob(x).sentiment)\n",
    "\n",
    "# Extract polarity and subjectivity scores\n",
    "df['polarity'] = df['sentiment'].apply(lambda x: x.polarity)\n",
    "df['subjectivity'] = df['sentiment'].apply(lambda x: x.subjectivity)\n",
    "\n",
    "print(df)"
   ]
  },
  {
   "cell_type": "markdown",
   "id": "0e8038a7-5a71-4339-9704-0bd9a6f70652",
   "metadata": {},
   "source": [
    "## Importing our Dataset\n",
    "We will import our scrapped movie reviews from our github repository and transform it into a Pandas Dataframe for further analysis."
   ]
  },
  {
   "cell_type": "code",
   "execution_count": 31,
   "id": "7f6eee42-e844-400a-8527-29487a79c017",
   "metadata": {},
   "outputs": [],
   "source": [
    "# Set URLs to github repositories with data\n",
    "movieTheaterData = \"https://raw.githubusercontent.com/ChrisxCross2003/DS4002Project1/refs/heads/main/Data/Movie_Theater.csv\"\n",
    "\n",
    "movies_df = pd.read_csv(movieTheaterData)"
   ]
  },
  {
   "cell_type": "code",
   "execution_count": 33,
   "id": "065b1610-37d1-45ae-ad3f-0fd301bcce39",
   "metadata": {},
   "outputs": [
    {
     "data": {
      "text/html": [
       "<div>\n",
       "<style scoped>\n",
       "    .dataframe tbody tr th:only-of-type {\n",
       "        vertical-align: middle;\n",
       "    }\n",
       "\n",
       "    .dataframe tbody tr th {\n",
       "        vertical-align: top;\n",
       "    }\n",
       "\n",
       "    .dataframe thead th {\n",
       "        text-align: right;\n",
       "    }\n",
       "</style>\n",
       "<table border=\"1\" class=\"dataframe\">\n",
       "  <thead>\n",
       "    <tr style=\"text-align: right;\">\n",
       "      <th></th>\n",
       "      <th>Theater Name</th>\n",
       "      <th>Review date</th>\n",
       "      <th>Author name</th>\n",
       "      <th>Local Guide</th>\n",
       "      <th>Star rating</th>\n",
       "      <th>Review content</th>\n",
       "    </tr>\n",
       "  </thead>\n",
       "  <tbody>\n",
       "    <tr>\n",
       "      <th>0</th>\n",
       "      <td>Violet Crown</td>\n",
       "      <td>1/24/2025</td>\n",
       "      <td>M</td>\n",
       "      <td>True</td>\n",
       "      <td>5</td>\n",
       "      <td>What an awesome, little theater! We were fortu...</td>\n",
       "    </tr>\n",
       "    <tr>\n",
       "      <th>1</th>\n",
       "      <td>Violet Crown</td>\n",
       "      <td>1/23/2025</td>\n",
       "      <td>Randy Carter (Pastor Randy)</td>\n",
       "      <td>True</td>\n",
       "      <td>5</td>\n",
       "      <td>Great spot to see a movie while in downtown Ch...</td>\n",
       "    </tr>\n",
       "    <tr>\n",
       "      <th>2</th>\n",
       "      <td>Violet Crown</td>\n",
       "      <td>1/16/2025</td>\n",
       "      <td>Lindsey</td>\n",
       "      <td>True</td>\n",
       "      <td>5</td>\n",
       "      <td>NaN</td>\n",
       "    </tr>\n",
       "    <tr>\n",
       "      <th>3</th>\n",
       "      <td>Violet Crown</td>\n",
       "      <td>1/9/2025</td>\n",
       "      <td>Kyle Dratwa</td>\n",
       "      <td>True</td>\n",
       "      <td>5</td>\n",
       "      <td>NaN</td>\n",
       "    </tr>\n",
       "    <tr>\n",
       "      <th>4</th>\n",
       "      <td>Violet Crown</td>\n",
       "      <td>1/2/2025</td>\n",
       "      <td>Waleed Omar</td>\n",
       "      <td>False</td>\n",
       "      <td>5</td>\n",
       "      <td>NaN</td>\n",
       "    </tr>\n",
       "  </tbody>\n",
       "</table>\n",
       "</div>"
      ],
      "text/plain": [
       "   Theater Name Review date                  Author name  Local Guide  \\\n",
       "0  Violet Crown   1/24/2025                            M         True   \n",
       "1  Violet Crown   1/23/2025  Randy Carter (Pastor Randy)         True   \n",
       "2  Violet Crown   1/16/2025                      Lindsey         True   \n",
       "3  Violet Crown    1/9/2025                  Kyle Dratwa         True   \n",
       "4  Violet Crown    1/2/2025                  Waleed Omar        False   \n",
       "\n",
       "   Star rating                                     Review content  \n",
       "0            5  What an awesome, little theater! We were fortu...  \n",
       "1            5  Great spot to see a movie while in downtown Ch...  \n",
       "2            5                                                NaN  \n",
       "3            5                                                NaN  \n",
       "4            5                                                NaN  "
      ]
     },
     "execution_count": 33,
     "metadata": {},
     "output_type": "execute_result"
    }
   ],
   "source": [
    "movies_df.head()"
   ]
  },
  {
   "cell_type": "markdown",
   "id": "951db1e3-d189-4074-b5cf-860e9f78fc37",
   "metadata": {},
   "source": [
    "## Analyzing the Dataset"
   ]
  }
 ],
 "metadata": {
  "kernelspec": {
   "display_name": "Python 3 (ipykernel)",
   "language": "python",
   "name": "python3"
  },
  "language_info": {
   "codemirror_mode": {
    "name": "ipython",
    "version": 3
   },
   "file_extension": ".py",
   "mimetype": "text/x-python",
   "name": "python",
   "nbconvert_exporter": "python",
   "pygments_lexer": "ipython3",
   "version": "3.12.4"
  }
 },
 "nbformat": 4,
 "nbformat_minor": 5
}
