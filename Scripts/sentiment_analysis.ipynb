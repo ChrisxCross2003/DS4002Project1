{
 "cells": [
  {
   "cell_type": "markdown",
   "id": "c5234169-2452-43b4-b846-e87ca2a7a028",
   "metadata": {},
   "source": [
    "# Sentiment Analysis Data Pipeline\n",
    "This is a scripted data pipeline to ingest our excel data on movie theater reviews and run a sentiment analysis on it using TextBlob."
   ]
  },
  {
   "cell_type": "code",
   "execution_count": 59,
   "id": "77fbcb3c-bac7-4dc7-9220-4ef6f42eb8f0",
   "metadata": {},
   "outputs": [
    {
     "name": "stdout",
     "output_type": "stream",
     "text": [
      "Requirement already satisfied: textblob in c:\\users\\chris\\anaconda3\\lib\\site-packages (0.19.0)\n",
      "Requirement already satisfied: nltk>=3.9 in c:\\users\\chris\\anaconda3\\lib\\site-packages (from textblob) (3.9.1)\n",
      "Requirement already satisfied: click in c:\\users\\chris\\anaconda3\\lib\\site-packages (from nltk>=3.9->textblob) (8.1.7)\n",
      "Requirement already satisfied: joblib in c:\\users\\chris\\anaconda3\\lib\\site-packages (from nltk>=3.9->textblob) (1.4.2)\n",
      "Requirement already satisfied: regex>=2021.8.3 in c:\\users\\chris\\anaconda3\\lib\\site-packages (from nltk>=3.9->textblob) (2023.10.3)\n",
      "Requirement already satisfied: tqdm in c:\\users\\chris\\anaconda3\\lib\\site-packages (from nltk>=3.9->textblob) (4.66.4)\n",
      "Requirement already satisfied: colorama in c:\\users\\chris\\anaconda3\\lib\\site-packages (from click->nltk>=3.9->textblob) (0.4.6)\n",
      "Note: you may need to restart the kernel to use updated packages.\n"
     ]
    }
   ],
   "source": [
    "pip install textblob"
   ]
  },
  {
   "cell_type": "code",
   "execution_count": 6,
   "id": "7c834137-275d-49a1-ba01-ee537d99b4e8",
   "metadata": {},
   "outputs": [],
   "source": [
    "import pandas as pd\n",
    "import numpy as np\n",
    "from textblob import TextBlob\n",
    "import matplotlib.pyplot as plt\n",
    "from nltk.corpus import stopwords"
   ]
  },
  {
   "cell_type": "code",
   "execution_count": 61,
   "id": "39ba271f-417a-44e8-9027-6f3a5bafdd22",
   "metadata": {},
   "outputs": [
    {
     "name": "stdout",
     "output_type": "stream",
     "text": [
      "                   text     sentiment  polarity  subjectivity\n",
      "0  I love this product!  (0.625, 0.6)     0.625           0.6\n",
      "1     This is terrible.   (-1.0, 1.0)    -1.000           1.0\n",
      "2          It was okay.    (0.5, 0.5)     0.500           0.5\n"
     ]
    }
   ],
   "source": [
    "# TEST OF TEXTBLOB, DO NOT USE IN FINAL PRODUCT\n",
    "df = pd.DataFrame({'text': ['I love this product!', 'This is terrible.', 'It was okay.']})\n",
    "\n",
    "# Apply TextBlob's sentiment analysis to the 'text' column\n",
    "df['sentiment'] = df['text'].apply(lambda x: TextBlob(x).sentiment)\n",
    "\n",
    "# Extract polarity and subjectivity scores\n",
    "df['polarity'] = df['sentiment'].apply(lambda x: x.polarity)\n",
    "df['subjectivity'] = df['sentiment'].apply(lambda x: x.subjectivity)\n",
    "\n",
    "print(df)"
   ]
  },
  {
   "cell_type": "markdown",
   "id": "0e8038a7-5a71-4339-9704-0bd9a6f70652",
   "metadata": {},
   "source": [
    "## Importing our Dataset\n",
    "We will import our scrapped movie reviews from our github repository and transform it into a Pandas Dataframe for further analysis."
   ]
  },
  {
   "cell_type": "code",
   "execution_count": 31,
   "id": "7f6eee42-e844-400a-8527-29487a79c017",
   "metadata": {},
   "outputs": [],
   "source": [
    "# Set URLs to github repositories with data\n",
    "movieTheaterData = \"https://raw.githubusercontent.com/ChrisxCross2003/DS4002Project1/refs/heads/main/Data/Movie_Theater.csv\"\n",
    "\n",
    "movies_df = pd.read_csv(movieTheaterData)"
   ]
  },
  {
   "cell_type": "code",
   "execution_count": 33,
   "id": "065b1610-37d1-45ae-ad3f-0fd301bcce39",
   "metadata": {},
   "outputs": [
    {
     "data": {
      "text/html": [
       "<div>\n",
       "<style scoped>\n",
       "    .dataframe tbody tr th:only-of-type {\n",
       "        vertical-align: middle;\n",
       "    }\n",
       "\n",
       "    .dataframe tbody tr th {\n",
       "        vertical-align: top;\n",
       "    }\n",
       "\n",
       "    .dataframe thead th {\n",
       "        text-align: right;\n",
       "    }\n",
       "</style>\n",
       "<table border=\"1\" class=\"dataframe\">\n",
       "  <thead>\n",
       "    <tr style=\"text-align: right;\">\n",
       "      <th></th>\n",
       "      <th>Theater Name</th>\n",
       "      <th>Review date</th>\n",
       "      <th>Author name</th>\n",
       "      <th>Local Guide</th>\n",
       "      <th>Star rating</th>\n",
       "      <th>Review content</th>\n",
       "    </tr>\n",
       "  </thead>\n",
       "  <tbody>\n",
       "    <tr>\n",
       "      <th>0</th>\n",
       "      <td>Violet Crown</td>\n",
       "      <td>1/24/2025</td>\n",
       "      <td>M</td>\n",
       "      <td>True</td>\n",
       "      <td>5</td>\n",
       "      <td>What an awesome, little theater! We were fortu...</td>\n",
       "    </tr>\n",
       "    <tr>\n",
       "      <th>1</th>\n",
       "      <td>Violet Crown</td>\n",
       "      <td>1/23/2025</td>\n",
       "      <td>Randy Carter (Pastor Randy)</td>\n",
       "      <td>True</td>\n",
       "      <td>5</td>\n",
       "      <td>Great spot to see a movie while in downtown Ch...</td>\n",
       "    </tr>\n",
       "    <tr>\n",
       "      <th>2</th>\n",
       "      <td>Violet Crown</td>\n",
       "      <td>1/16/2025</td>\n",
       "      <td>Lindsey</td>\n",
       "      <td>True</td>\n",
       "      <td>5</td>\n",
       "      <td>NaN</td>\n",
       "    </tr>\n",
       "    <tr>\n",
       "      <th>3</th>\n",
       "      <td>Violet Crown</td>\n",
       "      <td>1/9/2025</td>\n",
       "      <td>Kyle Dratwa</td>\n",
       "      <td>True</td>\n",
       "      <td>5</td>\n",
       "      <td>NaN</td>\n",
       "    </tr>\n",
       "    <tr>\n",
       "      <th>4</th>\n",
       "      <td>Violet Crown</td>\n",
       "      <td>1/2/2025</td>\n",
       "      <td>Waleed Omar</td>\n",
       "      <td>False</td>\n",
       "      <td>5</td>\n",
       "      <td>NaN</td>\n",
       "    </tr>\n",
       "  </tbody>\n",
       "</table>\n",
       "</div>"
      ],
      "text/plain": [
       "   Theater Name Review date                  Author name  Local Guide  \\\n",
       "0  Violet Crown   1/24/2025                            M         True   \n",
       "1  Violet Crown   1/23/2025  Randy Carter (Pastor Randy)         True   \n",
       "2  Violet Crown   1/16/2025                      Lindsey         True   \n",
       "3  Violet Crown    1/9/2025                  Kyle Dratwa         True   \n",
       "4  Violet Crown    1/2/2025                  Waleed Omar        False   \n",
       "\n",
       "   Star rating                                     Review content  \n",
       "0            5  What an awesome, little theater! We were fortu...  \n",
       "1            5  Great spot to see a movie while in downtown Ch...  \n",
       "2            5                                                NaN  \n",
       "3            5                                                NaN  \n",
       "4            5                                                NaN  "
      ]
     },
     "execution_count": 33,
     "metadata": {},
     "output_type": "execute_result"
    }
   ],
   "source": [
    "movies_df.head()"
   ]
  },
  {
   "cell_type": "markdown",
   "id": "951db1e3-d189-4074-b5cf-860e9f78fc37",
   "metadata": {},
   "source": [
    "## Analyzing the Dataset"
   ]
  },
  {
   "cell_type": "code",
   "execution_count": 43,
   "id": "c168a32b-d7a3-4a6d-8e41-50a96dd28bc2",
   "metadata": {},
   "outputs": [],
   "source": [
    "# Define a function to get sentiment polarity using TextBlob\n",
    "def get_sentiment(review):\n",
    "    if pd.isnull(review) or review == 'NaN':\n",
    "        return pd.NA, pd.NA\n",
    "    else:\n",
    "        blob = TextBlob(review)\n",
    "        return blob.sentiment.polarity, blob.sentiment.subjectivity\n",
    "\n",
    "# Apply the function to each row in the 'Review content' column\n",
    "movies_df[['Sentiment Polarity', 'Subjectivity']] = movies_df['Review content'].apply(lambda review: pd.Series(get_sentiment(review)))"
   ]
  },
  {
   "cell_type": "code",
   "execution_count": 49,
   "id": "e7b7c8cf-fa3e-4e8c-9240-17f25423f5f6",
   "metadata": {},
   "outputs": [
    {
     "name": "stdout",
     "output_type": "stream",
     "text": [
      "                                         Review content Sentiment Polarity  \\\n",
      "0     What an awesome, little theater! We were fortu...           0.308514   \n",
      "1     Great spot to see a movie while in downtown Ch...                0.8   \n",
      "2                                                   NaN               <NA>   \n",
      "3                                                   NaN               <NA>   \n",
      "4                                                   NaN               <NA>   \n",
      "...                                                 ...                ...   \n",
      "2936                                                NaN               <NA>   \n",
      "2937                                                NaN               <NA>   \n",
      "2938                                                NaN               <NA>   \n",
      "2939                                                NaN               <NA>   \n",
      "2940  For movies - this is convienent due to distanc...          -0.093353   \n",
      "\n",
      "     Subjectivity  \n",
      "0        0.643595  \n",
      "1            0.75  \n",
      "2            <NA>  \n",
      "3            <NA>  \n",
      "4            <NA>  \n",
      "...           ...  \n",
      "2936         <NA>  \n",
      "2937         <NA>  \n",
      "2938         <NA>  \n",
      "2939         <NA>  \n",
      "2940     0.317758  \n",
      "\n",
      "[2941 rows x 3 columns]\n"
     ]
    }
   ],
   "source": [
    "# Printing the output for debugging\n",
    "print(movies_df[['Review content', 'Sentiment Polarity', 'Subjectivity']])"
   ]
  },
  {
   "cell_type": "code",
   "execution_count": 51,
   "id": "a4692805-478d-4b10-b5c4-ecea3d991360",
   "metadata": {},
   "outputs": [],
   "source": [
    "# convert our sentiment analysis into a new dataframe to prep for export.\n",
    "sentiment_df = movies_df[['Review content', 'Sentiment Polarity', 'Subjectivity']]"
   ]
  },
  {
   "cell_type": "code",
   "execution_count": 53,
   "id": "7aea58a7-2411-40be-9336-4851cb6c2f08",
   "metadata": {},
   "outputs": [
    {
     "data": {
      "text/html": [
       "<div>\n",
       "<style scoped>\n",
       "    .dataframe tbody tr th:only-of-type {\n",
       "        vertical-align: middle;\n",
       "    }\n",
       "\n",
       "    .dataframe tbody tr th {\n",
       "        vertical-align: top;\n",
       "    }\n",
       "\n",
       "    .dataframe thead th {\n",
       "        text-align: right;\n",
       "    }\n",
       "</style>\n",
       "<table border=\"1\" class=\"dataframe\">\n",
       "  <thead>\n",
       "    <tr style=\"text-align: right;\">\n",
       "      <th></th>\n",
       "      <th>Review content</th>\n",
       "      <th>Sentiment Polarity</th>\n",
       "      <th>Subjectivity</th>\n",
       "    </tr>\n",
       "  </thead>\n",
       "  <tbody>\n",
       "    <tr>\n",
       "      <th>0</th>\n",
       "      <td>What an awesome, little theater! We were fortu...</td>\n",
       "      <td>0.308514</td>\n",
       "      <td>0.643595</td>\n",
       "    </tr>\n",
       "    <tr>\n",
       "      <th>1</th>\n",
       "      <td>Great spot to see a movie while in downtown Ch...</td>\n",
       "      <td>0.8</td>\n",
       "      <td>0.75</td>\n",
       "    </tr>\n",
       "    <tr>\n",
       "      <th>2</th>\n",
       "      <td>NaN</td>\n",
       "      <td>&lt;NA&gt;</td>\n",
       "      <td>&lt;NA&gt;</td>\n",
       "    </tr>\n",
       "    <tr>\n",
       "      <th>3</th>\n",
       "      <td>NaN</td>\n",
       "      <td>&lt;NA&gt;</td>\n",
       "      <td>&lt;NA&gt;</td>\n",
       "    </tr>\n",
       "    <tr>\n",
       "      <th>4</th>\n",
       "      <td>NaN</td>\n",
       "      <td>&lt;NA&gt;</td>\n",
       "      <td>&lt;NA&gt;</td>\n",
       "    </tr>\n",
       "  </tbody>\n",
       "</table>\n",
       "</div>"
      ],
      "text/plain": [
       "                                      Review content Sentiment Polarity  \\\n",
       "0  What an awesome, little theater! We were fortu...           0.308514   \n",
       "1  Great spot to see a movie while in downtown Ch...                0.8   \n",
       "2                                                NaN               <NA>   \n",
       "3                                                NaN               <NA>   \n",
       "4                                                NaN               <NA>   \n",
       "\n",
       "  Subjectivity  \n",
       "0     0.643595  \n",
       "1         0.75  \n",
       "2         <NA>  \n",
       "3         <NA>  \n",
       "4         <NA>  "
      ]
     },
     "execution_count": 53,
     "metadata": {},
     "output_type": "execute_result"
    }
   ],
   "source": [
    "sentiment_df.head()"
   ]
  },
  {
   "cell_type": "code",
   "execution_count": null,
   "id": "66c5cf37-35ec-474f-9d51-c44ace494d5d",
   "metadata": {},
   "outputs": [],
   "source": []
  }
 ],
 "metadata": {
  "kernelspec": {
   "display_name": "Python 3 (ipykernel)",
   "language": "python",
   "name": "python3"
  },
  "language_info": {
   "codemirror_mode": {
    "name": "ipython",
    "version": 3
   },
   "file_extension": ".py",
   "mimetype": "text/x-python",
   "name": "python",
   "nbconvert_exporter": "python",
   "pygments_lexer": "ipython3",
   "version": "3.12.4"
  }
 },
 "nbformat": 4,
 "nbformat_minor": 5
}
